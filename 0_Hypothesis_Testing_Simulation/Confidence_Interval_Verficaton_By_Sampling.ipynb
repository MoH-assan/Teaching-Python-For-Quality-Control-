{
 "cells": [
  {
   "cell_type": "code",
   "execution_count": 1,
   "id": "3eb60f45",
   "metadata": {},
   "outputs": [],
   "source": [
    "import pandas as pd\n",
    "import numpy as np\n",
    "import matplotlib.pyplot as plt\n",
    "import scipy.stats as stat"
   ]
  },
  {
   "cell_type": "markdown",
   "id": "825b139b",
   "metadata": {},
   "source": [
    "## Analytical Solution"
   ]
  },
  {
   "cell_type": "code",
   "execution_count": 2,
   "id": "727dc3f6",
   "metadata": {},
   "outputs": [],
   "source": [
    "mu_pop=0\n",
    "std_pop=1\n",
    "n=10# sample_size\n",
    "alpha=0.05"
   ]
  },
  {
   "cell_type": "code",
   "execution_count": 3,
   "id": "a38e5dc7",
   "metadata": {},
   "outputs": [],
   "source": [
    "z_half_alpha=stat.norm.ppf(1-alpha/2)"
   ]
  },
  {
   "cell_type": "code",
   "execution_count": 4,
   "id": "814f3a60",
   "metadata": {},
   "outputs": [],
   "source": [
    "UCI_Analtical=mu_pop+z_half_alpha*std_pop/np.sqrt(n)\n",
    "LCI_Analtical=mu_pop-z_half_alpha*std_pop/np.sqrt(n)"
   ]
  },
  {
   "cell_type": "code",
   "execution_count": 5,
   "id": "20a59744",
   "metadata": {},
   "outputs": [
    {
     "data": {
      "text/plain": [
       "0.6197950323045616"
      ]
     },
     "execution_count": 5,
     "metadata": {},
     "output_type": "execute_result"
    }
   ],
   "source": [
    "UCI_Analtical"
   ]
  },
  {
   "cell_type": "code",
   "execution_count": 6,
   "id": "b3f6f0fa",
   "metadata": {},
   "outputs": [
    {
     "data": {
      "text/plain": [
       "-0.6197950323045616"
      ]
     },
     "execution_count": 6,
     "metadata": {},
     "output_type": "execute_result"
    }
   ],
   "source": [
    "LCI_Analtical"
   ]
  },
  {
   "cell_type": "markdown",
   "id": "b896f9cc",
   "metadata": {},
   "source": [
    "## Simulation"
   ]
  },
  {
   "cell_type": "code",
   "execution_count": 7,
   "id": "80aee9c1",
   "metadata": {},
   "outputs": [],
   "source": [
    "m=100000 #number of samples"
   ]
  },
  {
   "cell_type": "code",
   "execution_count": 8,
   "id": "bfc5e1c1",
   "metadata": {},
   "outputs": [],
   "source": [
    "sample_mean_list=[]\n",
    "for counter in np.arange(m):\n",
    "    sample_measurment=stat.norm.rvs(loc=mu_pop, scale=std_pop, size=n, random_state=None)\n",
    "    sample_mean_list.append(np.mean(sample_measurment))"
   ]
  },
  {
   "cell_type": "code",
   "execution_count": 9,
   "id": "8fab5488",
   "metadata": {},
   "outputs": [],
   "source": [
    "UCI_Simulation=np.percentile(sample_mean_list, 100-100*alpha/2)\n",
    "LCI_Simulation=np.percentile(sample_mean_list, 100*alpha/2)"
   ]
  },
  {
   "cell_type": "code",
   "execution_count": 10,
   "id": "5b7a201e",
   "metadata": {},
   "outputs": [
    {
     "data": {
      "text/plain": [
       "0.6176394522893355"
      ]
     },
     "execution_count": 10,
     "metadata": {},
     "output_type": "execute_result"
    }
   ],
   "source": [
    "UCI_Simulation"
   ]
  },
  {
   "cell_type": "code",
   "execution_count": 11,
   "id": "ab1ac114",
   "metadata": {},
   "outputs": [
    {
     "data": {
      "text/plain": [
       "-0.6140268798562862"
      ]
     },
     "execution_count": 11,
     "metadata": {},
     "output_type": "execute_result"
    }
   ],
   "source": [
    "LCI_Simulation"
   ]
  },
  {
   "cell_type": "code",
   "execution_count": null,
   "id": "d883ce41",
   "metadata": {},
   "outputs": [],
   "source": []
  },
  {
   "cell_type": "code",
   "execution_count": null,
   "id": "702a81f9",
   "metadata": {},
   "outputs": [],
   "source": []
  }
 ],
 "metadata": {
  "kernelspec": {
   "display_name": "base",
   "language": "python",
   "name": "python3"
  },
  "language_info": {
   "codemirror_mode": {
    "name": "ipython",
    "version": 3
   },
   "file_extension": ".py",
   "mimetype": "text/x-python",
   "name": "python",
   "nbconvert_exporter": "python",
   "pygments_lexer": "ipython3",
   "version": "3.9.13"
  },
  "vscode": {
   "interpreter": {
    "hash": "c58d99693fa7a822ddd63c6321afbddb3fb572a83a0ff21a24761336ef9997d3"
   }
  }
 },
 "nbformat": 4,
 "nbformat_minor": 5
}
