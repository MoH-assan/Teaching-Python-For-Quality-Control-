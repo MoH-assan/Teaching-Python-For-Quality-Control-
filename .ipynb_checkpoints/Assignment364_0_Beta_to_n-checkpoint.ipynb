{
 "cells": [
  {
   "cell_type": "code",
   "execution_count": 25,
   "id": "c7801d80",
   "metadata": {},
   "outputs": [],
   "source": [
    "from scipy.stats import norm\n"
   ]
  },
  {
   "cell_type": "code",
   "execution_count": 51,
   "id": "dfe2b2f5",
   "metadata": {},
   "outputs": [],
   "source": [
    "sigma_0=0.64**0.5\n",
    "mu_0=41\n",
    "mu_1=42 #or 40\n",
    "alpha=0.01\n",
    "\n",
    "\n",
    "delta=abs(mu_0-mu_1)\n",
    "z_alpha_2=-norm.ppf(alpha/2)\n",
    "power_req=0.99\n",
    "\n"
   ]
  },
  {
   "cell_type": "code",
   "execution_count": 52,
   "id": "7f5a4653",
   "metadata": {},
   "outputs": [
    {
     "data": {
      "text/plain": [
       "2.575829303548901"
      ]
     },
     "execution_count": 52,
     "metadata": {},
     "output_type": "execute_result"
    }
   ],
   "source": [
    "z_alpha_2"
   ]
  },
  {
   "cell_type": "code",
   "execution_count": 63,
   "id": "a15d57a2",
   "metadata": {},
   "outputs": [
    {
     "name": "stdout",
     "output_type": "stream",
     "text": [
      "n of 5 leads to a exact power of 58.67745925596357%\n",
      "n of 5 leads to a approx power of 58.677455339041316%\n",
      "n of 6 leads to a exact power of 68.65280798371411%\n",
      "n of 6 leads to a approx power of 68.65280712198953%\n",
      "n of 7 leads to a exact power of 76.7720306308553%\n",
      "n of 7 leads to a approx power of 76.77203042942978%\n",
      "n of 8 leads to a exact power of 83.13980473486411%\n",
      "n of 8 leads to a approx power of 83.13980468547228%\n",
      "n of 9 leads to a exact power of 87.98366696860298%\n",
      "n of 9 leads to a approx power of 87.98366695600917%\n",
      "n of 10 leads to a exact power of 91.57466233343112%\n",
      "n of 10 leads to a approx power of 91.57466233011344%\n",
      "n of 11 leads to a exact power of 94.17868239639992%\n",
      "n of 11 leads to a approx power of 94.17868239550128%\n",
      "n of 12 leads to a exact power of 96.03102464759692%\n",
      "n of 12 leads to a approx power of 96.03102464734758%\n",
      "n of 13 leads to a exact power of 97.32652617596098%\n",
      "n of 13 leads to a approx power of 97.32652617589032%\n",
      "n of 14 leads to a exact power of 98.21901547316709%\n",
      "n of 14 leads to a approx power of 98.21901547314668%\n",
      "n of 15 leads to a exact power of 98.82559241256655%\n",
      "n of 15 leads to a approx power of 98.82559241256055%\n",
      "n of 16 leads to a exact power of 99.23283041738541%\n",
      "n of 16 leads to a approx power of 99.23283041738362%\n",
      "n of 17 leads to a exact power of 99.50320582375942%\n",
      "n of 17 leads to a approx power of 99.50320582375888%\n",
      "n of 18 leads to a exact power of 99.68089120051371%\n",
      "n of 18 leads to a approx power of 99.68089120051354%\n",
      "n of 19 leads to a exact power of 99.79657058355167%\n",
      "n of 19 leads to a approx power of 99.79657058355161%\n"
     ]
    }
   ],
   "source": [
    "for n in range(5,20):\n",
    "    beta_exact=norm.cdf(z_alpha_2-delta*(n**0.5)/sigma_0)-norm.cdf(-z_alpha_2-delta*(n**0.5)/sigma_0)\n",
    "    beta_approx=norm.cdf(z_alpha_2-delta*(n**0.5)/sigma_0)\n",
    "\n",
    "    print(f'n of {n} leads to a exact power of {(1-beta_exact)*100}%')\n",
    "    print(f'n of {n} leads to a approx power of {(1-beta_approx)*100}%')"
   ]
  },
  {
   "cell_type": "code",
   "execution_count": 62,
   "id": "77e27573",
   "metadata": {},
   "outputs": [
    {
     "name": "stdout",
     "output_type": "stream",
     "text": [
      "15.380058291508307\n"
     ]
    }
   ],
   "source": [
    "beta_req=1-power_req\n",
    "n=((z_alpha_2-norm.ppf(beta_req))/(delta/sigma_0))**2\n",
    "print(n)"
   ]
  },
  {
   "cell_type": "code",
   "execution_count": null,
   "id": "fe3104e3",
   "metadata": {},
   "outputs": [],
   "source": []
  }
 ],
 "metadata": {
  "kernelspec": {
   "display_name": "Python 3 (ipykernel)",
   "language": "python",
   "name": "python3"
  },
  "language_info": {
   "codemirror_mode": {
    "name": "ipython",
    "version": 3
   },
   "file_extension": ".py",
   "mimetype": "text/x-python",
   "name": "python",
   "nbconvert_exporter": "python",
   "pygments_lexer": "ipython3",
   "version": "3.9.13"
  }
 },
 "nbformat": 4,
 "nbformat_minor": 5
}
