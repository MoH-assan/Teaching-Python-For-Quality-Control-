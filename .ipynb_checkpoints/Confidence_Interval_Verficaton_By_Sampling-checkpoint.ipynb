{
 "cells": [
  {
   "cell_type": "code",
   "execution_count": 1,
   "id": "2ce9c1ef",
   "metadata": {},
   "outputs": [],
   "source": [
    "import pandas as pd\n",
    "import numpy as np\n",
    "import matplotlib.pyplot as plt\n",
    "import scipy.stats as stat"
   ]
  },
  {
   "cell_type": "markdown",
   "id": "a6aa91e3",
   "metadata": {},
   "source": [
    "## Analytical Solution"
   ]
  },
  {
   "cell_type": "code",
   "execution_count": 2,
   "id": "1448f54b",
   "metadata": {},
   "outputs": [],
   "source": [
    "mu_pop=0\n",
    "std_pop=1\n",
    "n=10# sample_size\n",
    "alpha=0.05"
   ]
  },
  {
   "cell_type": "code",
   "execution_count": 3,
   "id": "51c38bbe",
   "metadata": {},
   "outputs": [],
   "source": [
    "z_half_alpha=stat.norm.ppf(1-alpha/2)"
   ]
  },
  {
   "cell_type": "code",
   "execution_count": 4,
   "id": "95d24d21",
   "metadata": {},
   "outputs": [],
   "source": [
    "U=mu_pop+z_half_alpha*std_pop/np.sqrt(n)\n",
    "L=mu_pop-z_half_alpha*std_pop/np.sqrt(n)"
   ]
  },
  {
   "cell_type": "code",
   "execution_count": 5,
   "id": "59b445fb",
   "metadata": {},
   "outputs": [
    {
     "data": {
      "text/plain": [
       "0.6197950323045616"
      ]
     },
     "execution_count": 5,
     "metadata": {},
     "output_type": "execute_result"
    }
   ],
   "source": [
    "U"
   ]
  },
  {
   "cell_type": "code",
   "execution_count": 6,
   "id": "13c0b532",
   "metadata": {},
   "outputs": [
    {
     "data": {
      "text/plain": [
       "-0.6197950323045616"
      ]
     },
     "execution_count": 6,
     "metadata": {},
     "output_type": "execute_result"
    }
   ],
   "source": [
    "L"
   ]
  },
  {
   "cell_type": "markdown",
   "id": "824657eb",
   "metadata": {},
   "source": [
    "## Simulation"
   ]
  },
  {
   "cell_type": "code",
   "execution_count": 22,
   "id": "0ed7bbd1",
   "metadata": {},
   "outputs": [],
   "source": [
    "m=100000 #number of samples"
   ]
  },
  {
   "cell_type": "code",
   "execution_count": 23,
   "id": "1eb0bee3",
   "metadata": {},
   "outputs": [],
   "source": [
    "sample_mean_list=[]\n",
    "for counter in np.arange(m):\n",
    "    sample_measurment=stat.norm.rvs(loc=mu_pop, scale=std_pop, size=n, random_state=None)\n",
    "    sample_mean_list.append(np.mean(sample_measurment))"
   ]
  },
  {
   "cell_type": "code",
   "execution_count": 24,
   "id": "a96509ad",
   "metadata": {},
   "outputs": [],
   "source": [
    "U=np.percentile(sample_mean_list, 100-100*alpha/2)\n",
    "L=np.percentile(sample_mean_list, 100*alpha/2)"
   ]
  },
  {
   "cell_type": "code",
   "execution_count": 25,
   "id": "b352b71b",
   "metadata": {},
   "outputs": [
    {
     "data": {
      "text/plain": [
       "0.6171842062443262"
      ]
     },
     "execution_count": 25,
     "metadata": {},
     "output_type": "execute_result"
    }
   ],
   "source": [
    "U"
   ]
  },
  {
   "cell_type": "code",
   "execution_count": 26,
   "id": "e32bcec8",
   "metadata": {},
   "outputs": [
    {
     "data": {
      "text/plain": [
       "-0.6185721018434288"
      ]
     },
     "execution_count": 26,
     "metadata": {},
     "output_type": "execute_result"
    }
   ],
   "source": [
    "L"
   ]
  },
  {
   "cell_type": "code",
   "execution_count": null,
   "id": "03c109fc",
   "metadata": {},
   "outputs": [],
   "source": []
  }
 ],
 "metadata": {
  "kernelspec": {
   "display_name": "Python 3",
   "language": "python",
   "name": "python3"
  },
  "language_info": {
   "codemirror_mode": {
    "name": "ipython",
    "version": 3
   },
   "file_extension": ".py",
   "mimetype": "text/x-python",
   "name": "python",
   "nbconvert_exporter": "python",
   "pygments_lexer": "ipython3",
   "version": "3.8.8"
  }
 },
 "nbformat": 4,
 "nbformat_minor": 5
}
