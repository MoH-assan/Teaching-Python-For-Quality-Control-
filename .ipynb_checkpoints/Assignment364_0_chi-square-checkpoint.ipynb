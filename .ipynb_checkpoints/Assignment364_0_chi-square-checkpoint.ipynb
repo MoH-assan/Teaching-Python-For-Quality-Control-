{
 "cells": [
  {
   "cell_type": "code",
   "execution_count": 5,
   "id": "c7801d80",
   "metadata": {},
   "outputs": [],
   "source": [
    "from scipy.stats import norm\n",
    "from scipy.stats import t\n",
    "import numpy as np"
   ]
  },
  {
   "cell_type": "markdown",
   "id": "f975c744",
   "metadata": {},
   "source": [
    "# Q 4"
   ]
  },
  {
   "cell_type": "code",
   "execution_count": 50,
   "id": "878546b8",
   "metadata": {},
   "outputs": [
    {
     "name": "stdout",
     "output_type": "stream",
     "text": [
      "x_bar = 3.1\n"
     ]
    }
   ],
   "source": [
    "x=[0.8, 7.4, 3.8, 5.5, 1.3, 2.7, 3.5, 1.1, 1.8]\n",
    "alpha=0.05\n",
    "x_bar=np.mean(x)\n",
    "mu_0=3.4\n",
    "n=len(x)\n",
    "print(f'x_bar = {x_bar}')"
   ]
  },
  {
   "cell_type": "code",
   "execution_count": 47,
   "id": "902ed38e",
   "metadata": {},
   "outputs": [
    {
     "name": "stdout",
     "output_type": "stream",
     "text": [
      "sigma_sample = 2.215851980616034\n"
     ]
    }
   ],
   "source": [
    "sigma_sample=np.std(x,ddof=1)  #Note that we must use ddof=1, because this is the sample std not pop std\n",
    "print(f'sigma_sample = {sigma_sample}')\n",
    "sigma_pop=sigma_sample #Approx since the variance is unkown"
   ]
  },
  {
   "cell_type": "code",
   "execution_count": 48,
   "id": "dfe2b2f5",
   "metadata": {},
   "outputs": [
    {
     "name": "stdout",
     "output_type": "stream",
     "text": [
      "t_sample = -0.4061643141658715\n"
     ]
    }
   ],
   "source": [
    "t_sample=(x_bar-mu_0)/(sigma_pop/n**0.5)\n",
    "print(f't_sample = {t_sample}')"
   ]
  },
  {
   "cell_type": "code",
   "execution_count": 51,
   "id": "7f5a4653",
   "metadata": {},
   "outputs": [
    {
     "name": "stdout",
     "output_type": "stream",
     "text": [
      "p_value = 0.34763472440177845\n"
     ]
    }
   ],
   "source": [
    "p_value=t.cdf(t_sample,df=n-1) \n",
    "print(f'p_value = {p_value}')"
   ]
  },
  {
   "cell_type": "code",
   "execution_count": null,
   "id": "2cb560b7",
   "metadata": {},
   "outputs": [],
   "source": []
  }
 ],
 "metadata": {
  "kernelspec": {
   "display_name": "Python 3 (ipykernel)",
   "language": "python",
   "name": "python3"
  },
  "language_info": {
   "codemirror_mode": {
    "name": "ipython",
    "version": 3
   },
   "file_extension": ".py",
   "mimetype": "text/x-python",
   "name": "python",
   "nbconvert_exporter": "python",
   "pygments_lexer": "ipython3",
   "version": "3.9.13"
  }
 },
 "nbformat": 4,
 "nbformat_minor": 5
}
