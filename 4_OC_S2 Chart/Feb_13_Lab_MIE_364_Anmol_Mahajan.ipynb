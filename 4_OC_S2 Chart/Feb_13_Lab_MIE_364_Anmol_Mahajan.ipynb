{
  "cells": [
    {
      "cell_type": "markdown",
      "metadata": {
        "id": "H5DiE7yW8V8F"
      },
      "source": [
        "Work from last week lab to get value for \"h\""
      ]
    },
    {
      "cell_type": "code",
      "execution_count": 36,
      "metadata": {
        "colab": {
          "base_uri": "https://localhost:8080/"
        },
        "id": "162-WybY5czX",
        "outputId": "99b0d160-6d2d-4c2e-8117-dfdbdcd59e54"
      },
      "outputs": [
        {
          "name": "stdout",
          "output_type": "stream",
          "text": [
            "Bisection Method Gives Root at x = 0.037941856442473346\n"
          ]
        }
      ],
      "source": [
        "import numpy as np\n",
        "import matplotlib.pyplot as plt\n",
        "from scipy.optimize import fsolve\n",
        "from scipy.stats import chi2\n",
        "import math\n",
        "\n",
        "\n",
        "def f(h):\n",
        "  df = 7\n",
        "  alpha = 0.005\n",
        "\n",
        "  rhs = df*math.log(h)/(h-1)\n",
        "\n",
        "  lhs = df*h*math.log(h)/(h-1)\n",
        "\n",
        "  p_h = chi2.cdf(rhs, df) - chi2.cdf(lhs, df)\n",
        "\n",
        "  return p_h + alpha - 1\n",
        "\n",
        "def bisection(a,b,tol):\n",
        "  xl = a \n",
        "  xr = b\n",
        "  while (np.abs(xl-xr)>= tol):\n",
        "    c = (xl+xr)/2.0\n",
        "    prod = f(xl)*f(c)\n",
        "    if prod > tol:\n",
        "      xl = c\n",
        "    else:\n",
        "      if prod < tol:\n",
        "        xr = c \n",
        "  return c \n",
        "\n",
        "answer = bisection(0.0001,0.9999,1e-10)\n",
        "print (\"Bisection Method Gives Root at x =\" , answer)\n",
        "# from this point, we got h = 0.037941856442473346\n",
        "\n",
        "h = 0.037941856442473346"
      ]
    },
    {
      "cell_type": "markdown",
      "metadata": {
        "id": "n0m5nA4M7lNF"
      },
      "source": [
        "Getting the S^2 Unbiased Chart\n"
      ]
    },
    {
      "cell_type": "code",
      "execution_count": 37,
      "metadata": {
        "id": "Tc4qBobg6-hd"
      },
      "outputs": [],
      "source": [
        "def getBeta(sigma_0, sigma_1, h, n):\n",
        "  h1 = (n-1)*h*np.log(h)/(h-1)\n",
        "  h2 = (n-1)*np.log(h)/(h-1)\n",
        "  LCL = sigma_0**2 *h1 / (n-1)\n",
        "  UCL = sigma_0**2 *h2 / (n-1)\n",
        "  Lower = (n-1)* LCL / sigma_1**2\n",
        "  Upper = (n-1)* UCL / sigma_1**2\n",
        "\n",
        "  Upper_cdf = chi2.cdf(Upper, n-1)\n",
        "  Lower_cdf = chi2.cdf(Lower, n-1)\n",
        "\n",
        "  return (Upper_cdf- Lower_cdf)\n"
      ]
    },
    {
      "cell_type": "code",
      "execution_count": 39,
      "metadata": {
        "colab": {
          "base_uri": "https://localhost:8080/",
          "height": 282
        },
        "id": "NblQOHOo7aeu",
        "outputId": "5afaea5f-661f-4644-f234-a1a741798dae"
      },
      "outputs": [
        {
          "data": {
            "image/png": "[encoded data removed]",
            "text/plain": [
              "<Figure size 432x288 with 1 Axes>"
            ]
          },
          "metadata": {
            "needs_background": "light"
          },
          "output_type": "display_data"
        },
        {
          "name": "stdout",
          "output_type": "stream",
          "text": [
            "0.7679225849989352\n"
          ]
        }
      ],
      "source": [
        "sigma_0 = 2.5\n",
        "n=8\n",
        "sigma_1_array = np.linspace(0.1, 5.0, num=500)\n",
        "ARL_List_Unbias = []\n",
        "\n",
        "for sigma_1 in sigma_1_array:\n",
        "  ARL_List_Unbias.append(1/(1-getBeta(sigma_0, sigma_1, h , n)))\n",
        "\n",
        "plt.plot(sigma_1_array, ARL_List_Unbias)\n",
        "plt.grid()\n",
        "plt.show()\n",
        "\n",
        "print(getBeta(2.5, 4, h ,n)) "
      ]
    },
    {
      "cell_type": "markdown",
      "metadata": {
        "id": "4MCs571O7rqD"
      },
      "source": [
        "Getting the S^2 Biased Chart"
      ]
    },
    {
      "cell_type": "code",
      "execution_count": 31,
      "metadata": {
        "id": "s2BFP7Tu7ukU"
      },
      "outputs": [],
      "source": [
        "def controlLimits(sigma_0, n, alpha):\n",
        "  UCL = sigma_0**2 * chi2.ppf(alpha/2,n-1) / (n-1)\n",
        "  LCL = sigma_0**2 * chi2.ppf(1- (alpha/2),n-1) / (n-1)\n",
        "  return LCL, UCL"
      ]
    },
    {
      "cell_type": "code",
      "execution_count": 32,
      "metadata": {
        "id": "fMjDOr4v7xUN"
      },
      "outputs": [],
      "source": [
        "sigma_0 = 2.5\n",
        "n = 8\n",
        "alpha = 0.005\n",
        "LCL, UCL = controlLimits(sigma_0, n, alpha)"
      ]
    },
    {
      "cell_type": "code",
      "execution_count": 33,
      "metadata": {
        "id": "jmsPElrR71ep"
      },
      "outputs": [],
      "source": [
        "def getBetaBias(LCL, UCL, sigma_1, n):\n",
        "  Lower = (n-1)* LCL / sigma_1**2\n",
        "  Upper = (n-1)* UCL / sigma_1**2\n",
        "\n",
        "  Upper_cdf = chi2.cdf(Upper, n-1)\n",
        "  Lower_cdf = chi2.cdf(Lower, n-1)\n",
        "\n",
        "  return (Upper_cdf- Lower_cdf)"
      ]
    },
    {
      "cell_type": "code",
      "execution_count": 34,
      "metadata": {
        "colab": {
          "base_uri": "https://localhost:8080/"
        },
        "id": "p0HtQRoR7zmo",
        "outputId": "5cea31e2-5a5d-4357-9dfc-8a93a28b8fa5"
      },
      "outputs": [
        {
          "data": {
            "text/plain": [
              "-0.7179691606012809"
            ]
          },
          "execution_count": 34,
          "metadata": {},
          "output_type": "execute_result"
        }
      ],
      "source": [
        "getBetaBias(LCL, UCL, 4 , n)"
      ]
    },
    {
      "cell_type": "code",
      "execution_count": 35,
      "metadata": {
        "colab": {
          "base_uri": "https://localhost:8080/",
          "height": 265
        },
        "id": "YAevRU588JfV",
        "outputId": "68db66d6-418b-4aba-f406-30b3650bc2dc"
      },
      "outputs": [
        {
          "data": {
            "image/png": "[encoded data removed]",
            "text/plain": [
              "<Figure size 432x288 with 1 Axes>"
            ]
          },
          "metadata": {
            "needs_background": "light"
          },
          "output_type": "display_data"
        }
      ],
      "source": [
        "sigma_1_array = np.linspace(0.1, 5.0, num=500)\n",
        "ARL_List_Biased= []\n",
        "for sigma_1 in sigma_1_array:\n",
        "  ARL_List_Biased.append(1/(1-getBetaBias(LCL, UCL, sigma_1 ,n)))\n",
        "\n",
        "plt.plot(sigma_1_array, ARL_List_Biased)\n",
        "plt.grid()\n",
        "plt.show()"
      ]
    }
  ],
  "metadata": {
    "colab": {
      "provenance": []
    },
    "kernelspec": {
      "display_name": "base",
      "language": "python",
      "name": "python3"
    },
    "language_info": {
      "name": "python",
      "version": "3.9.13"
    },
    "vscode": {
      "interpreter": {
        "hash": "c58d99693fa7a822ddd63c6321afbddb3fb572a83a0ff21a24761336ef9997d3"
      }
    }
  },
  "nbformat": 4,
  "nbformat_minor": 0
}
