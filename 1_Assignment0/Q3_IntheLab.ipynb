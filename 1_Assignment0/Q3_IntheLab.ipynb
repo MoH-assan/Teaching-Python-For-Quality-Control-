{
 "cells": [
  {
   "cell_type": "code",
   "execution_count": 2,
   "id": "2ebfeafa",
   "metadata": {},
   "outputs": [],
   "source": [
    "from  scipy.stats import t\n",
    "import numpy as np"
   ]
  },
  {
   "cell_type": "markdown",
   "id": "826e2e48",
   "metadata": {},
   "source": [
    "# Q3"
   ]
  },
  {
   "cell_type": "code",
   "execution_count": 6,
   "id": "5c718d7b",
   "metadata": {},
   "outputs": [
    {
     "name": "stdout",
     "output_type": "stream",
     "text": [
      "0.022962419891482264\n"
     ]
    }
   ],
   "source": [
    "x=[8.08, 8.02, 8.04, 8.04, 8.02, 8.05,\n",
    "8.02, 8.03, 8.07, 8.01, 8.03, 8.07]\n",
    "n=len(x)\n",
    "mu_o=8.05 #Given\n",
    "sigma_samples=np.std(x,ddof=1) #Not given\n",
    "print(sigma_samples)"
   ]
  },
  {
   "cell_type": "code",
   "execution_count": 7,
   "id": "6674f19f",
   "metadata": {},
   "outputs": [],
   "source": [
    "sigma_o=sigma_samples #Approx."
   ]
  },
  {
   "cell_type": "code",
   "execution_count": 8,
   "id": "291e5859",
   "metadata": {},
   "outputs": [],
   "source": [
    "x_bar=np.mean(x)"
   ]
  },
  {
   "cell_type": "code",
   "execution_count": 13,
   "id": "fdedce09",
   "metadata": {},
   "outputs": [
    {
     "name": "stdout",
     "output_type": "stream",
     "text": [
      "-1.5085960589121807\n"
     ]
    }
   ],
   "source": [
    "t_obs=(x_bar-mu_o)/(sigma_o/np.sqrt(n))\n",
    "print(t_obs)"
   ]
  },
  {
   "cell_type": "code",
   "execution_count": 14,
   "id": "88446f34",
   "metadata": {},
   "outputs": [
    {
     "data": {
      "text/plain": [
       "0.15957575484748474"
      ]
     },
     "execution_count": 14,
     "metadata": {},
     "output_type": "execute_result"
    }
   ],
   "source": [
    "p_value=(t.cdf(t_obs,df=n-1))*2\n",
    "p_value"
   ]
  },
  {
   "cell_type": "code",
   "execution_count": null,
   "id": "5b88403f",
   "metadata": {},
   "outputs": [],
   "source": []
  }
 ],
 "metadata": {
  "kernelspec": {
   "display_name": "Python 3 (ipykernel)",
   "language": "python",
   "name": "python3"
  },
  "language_info": {
   "codemirror_mode": {
    "name": "ipython",
    "version": 3
   },
   "file_extension": ".py",
   "mimetype": "text/x-python",
   "name": "python",
   "nbconvert_exporter": "python",
   "pygments_lexer": "ipython3",
   "version": "3.9.13"
  }
 },
 "nbformat": 4,
 "nbformat_minor": 5
}
