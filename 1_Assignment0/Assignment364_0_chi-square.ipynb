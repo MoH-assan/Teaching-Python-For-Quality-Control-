{
 "cells": [
  {
   "cell_type": "code",
   "execution_count": 4,
   "id": "c7801d80",
   "metadata": {},
   "outputs": [],
   "source": [
    "from scipy.stats import chi2\n",
    "import numpy as np"
   ]
  },
  {
   "cell_type": "markdown",
   "id": "f975c744",
   "metadata": {},
   "source": [
    "# Q 5"
   ]
  },
  {
   "cell_type": "code",
   "execution_count": 39,
   "id": "878546b8",
   "metadata": {},
   "outputs": [
    {
     "name": "stdout",
     "output_type": "stream",
     "text": [
      "x_bar = 553.1226164132856\n",
      "sigma_sample = 553.1226164132856\n",
      "var_pop = 160000.0\n"
     ]
    }
   ],
   "source": [
    "x=[4532, 4606, 3511, 4201, 3392, 4639,\n",
    "4021, 4722, 3470, 3100, 4212, 4165]\n",
    "alpha=0.1\n",
    "sigma_sample=np.std(x,ddof=1)  #Note that we must use ddof=1, because this is the sample std not pop std\n",
    "var_sample=sigma_sample**2\n",
    "sigma_pop=160000**0.5\n",
    "var_pop=sigma_pop**2\n",
    "n=len(x)\n",
    "print(f'x_bar = {sigma_sample}')\n",
    "print(f'sigma_sample = {sigma_sample}')\n",
    "print(f'var_pop = {var_pop}')"
   ]
  },
  {
   "cell_type": "code",
   "execution_count": 45,
   "id": "1ab90725",
   "metadata": {},
   "outputs": [
    {
     "data": {
      "text/plain": [
       "305944.6287878787"
      ]
     },
     "execution_count": 45,
     "metadata": {},
     "output_type": "execute_result"
    }
   ],
   "source": [
    "var_sample"
   ]
  },
  {
   "cell_type": "code",
   "execution_count": 46,
   "id": "902ed38e",
   "metadata": {},
   "outputs": [
    {
     "name": "stdout",
     "output_type": "stream",
     "text": [
      "4.574813079322224\n"
     ]
    },
    {
     "data": {
      "text/plain": [
       "735634.6277573513"
      ]
     },
     "execution_count": 46,
     "metadata": {},
     "output_type": "execute_result"
    }
   ],
   "source": [
    "chi_squared_alpha_2=chi2.ppf(alpha/2,df=n-1)\n",
    "print(chi_squared_alpha_2)\n",
    "UCL=(n-1)*var_sample/chi_squared_alpha_2\n",
    "UCL"
   ]
  },
  {
   "cell_type": "code",
   "execution_count": 47,
   "id": "45452d76",
   "metadata": {},
   "outputs": [
    {
     "data": {
      "text/plain": [
       "False"
      ]
     },
     "execution_count": 47,
     "metadata": {},
     "output_type": "execute_result"
    }
   ],
   "source": [
    "var_pop>UCL"
   ]
  },
  {
   "cell_type": "code",
   "execution_count": 48,
   "id": "c8fe69cb",
   "metadata": {},
   "outputs": [
    {
     "name": "stdout",
     "output_type": "stream",
     "text": [
      "19.67513757268249\n"
     ]
    },
    {
     "data": {
      "text/plain": [
       "171047.89759331942"
      ]
     },
     "execution_count": 48,
     "metadata": {},
     "output_type": "execute_result"
    }
   ],
   "source": [
    "chi_squared_alpha_2=chi2.ppf(1-alpha/2,df=n-1)\n",
    "print(chi_squared_alpha_2)\n",
    "LCL=(n-1)*var_sample/chi_squared_alpha_2\n",
    "LCL"
   ]
  },
  {
   "cell_type": "code",
   "execution_count": 50,
   "id": "648e6b27",
   "metadata": {},
   "outputs": [
    {
     "data": {
      "text/plain": [
       "True"
      ]
     },
     "execution_count": 50,
     "metadata": {},
     "output_type": "execute_result"
    }
   ],
   "source": [
    "var_pop<LCL"
   ]
  },
  {
   "cell_type": "code",
   "execution_count": 32,
   "id": "dfe2b2f5",
   "metadata": {},
   "outputs": [
    {
     "data": {
      "text/plain": [
       "21.033693229166662"
      ]
     },
     "execution_count": 32,
     "metadata": {},
     "output_type": "execute_result"
    }
   ],
   "source": [
    "chi_squared_sample=(n-1)*var_sample/var_pop\n",
    "chi_squared_sample"
   ]
  },
  {
   "cell_type": "code",
   "execution_count": 54,
   "id": "7f5a4653",
   "metadata": {},
   "outputs": [
    {
     "name": "stdout",
     "output_type": "stream",
     "text": [
      "p_value = 0.06604731469855118\n"
     ]
    }
   ],
   "source": [
    "p_value=2*np.min([1-chi2.cdf(chi_squared_sample,df=n-1),chi2.cdf(chi_squared_sample,df=n-1)])\n",
    "print(f'p_value = {p_value}')"
   ]
  },
  {
   "cell_type": "code",
   "execution_count": null,
   "id": "2cb560b7",
   "metadata": {},
   "outputs": [],
   "source": []
  }
 ],
 "metadata": {
  "kernelspec": {
   "display_name": "Python 3 (ipykernel)",
   "language": "python",
   "name": "python3"
  },
  "language_info": {
   "codemirror_mode": {
    "name": "ipython",
    "version": 3
   },
   "file_extension": ".py",
   "mimetype": "text/x-python",
   "name": "python",
   "nbconvert_exporter": "python",
   "pygments_lexer": "ipython3",
   "version": "3.9.13"
  }
 },
 "nbformat": 4,
 "nbformat_minor": 5
}
