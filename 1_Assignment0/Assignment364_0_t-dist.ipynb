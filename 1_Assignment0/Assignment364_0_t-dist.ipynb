{
 "cells": [
  {
   "cell_type": "code",
   "execution_count": 27,
   "id": "c7801d80",
   "metadata": {},
   "outputs": [],
   "source": [
    "from scipy.stats import norm\n",
    "from scipy.stats import t\n",
    "import numpy as np"
   ]
  },
  {
   "cell_type": "markdown",
   "id": "f975c744",
   "metadata": {},
   "source": [
    "# Q 3"
   ]
  },
  {
   "cell_type": "code",
   "execution_count": 28,
   "id": "878546b8",
   "metadata": {},
   "outputs": [],
   "source": [
    "x=[8.08, 8.02, 8.04, 8.04, 8.02, 8.05,\n",
    "8.02, 8.03, 8.07, 8.01, 8.03, 8.07]\n",
    "mu_0=8.05\n",
    "alpha=0.05 #Do we need it, the question is asking about the p-value"
   ]
  },
  {
   "cell_type": "code",
   "execution_count": 29,
   "id": "9ab6c8c4",
   "metadata": {},
   "outputs": [],
   "source": [
    "sigma_sample=np.std(x,ddof=1)  #Note that we must use ddof=1, because this is the sample std not pop std\n",
    "print(f'sigma_sample = {sigma_sample}')\n",
    "sigma_pop=sigma_sample #Approx since the variance is unkown"
   ]
  },
  {
   "cell_type": "code",
   "execution_count": null,
   "id": "cb1412ed",
   "metadata": {},
   "outputs": [],
   "source": []
  },
  {
   "cell_type": "code",
   "execution_count": 30,
   "id": "902ed38e",
   "metadata": {},
   "outputs": [
    {
     "name": "stdout",
     "output_type": "stream",
     "text": [
      "x_bar = 8.040000000000001\n",
      "sigma_sample = 0.022962419891482264\n"
     ]
    }
   ],
   "source": [
    "x_bar=np.mean(x)\n",
    "print(f'x_bar = {x_bar}')\n",
    "n=len(x)"
   ]
  },
  {
   "cell_type": "code",
   "execution_count": 32,
   "id": "dfe2b2f5",
   "metadata": {},
   "outputs": [
    {
     "name": "stdout",
     "output_type": "stream",
     "text": [
      "t_sample = -1.5085960589121807\n"
     ]
    }
   ],
   "source": [
    "t_sample=(x_bar-mu_0)/(sigma_pop/n**0.5)\n",
    "print(f't_sample = {t_sample}')"
   ]
  },
  {
   "cell_type": "code",
   "execution_count": 34,
   "id": "7f5a4653",
   "metadata": {},
   "outputs": [
    {
     "name": "stdout",
     "output_type": "stream",
     "text": [
      "p_value = 0.15957575484748474\n"
     ]
    }
   ],
   "source": [
    "p_value=2*t.cdf(t_sample , df=n-1) \n",
    "print(f'p_value = {p_value}')"
   ]
  },
  {
   "cell_type": "markdown",
   "id": "c5573a83",
   "metadata": {},
   "source": [
    "# Q 3 (Using t-student)"
   ]
  },
  {
   "cell_type": "code",
   "execution_count": 38,
   "id": "589995b1",
   "metadata": {},
   "outputs": [],
   "source": [
    "x=[41.7,40.6,41.0,42.5,40.4,\n",
    "42.4,42.7,41.2,42.6,41.5]\n",
    "mu_0=41\n",
    "sigma_pop=0.8"
   ]
  },
  {
   "cell_type": "code",
   "execution_count": 39,
   "id": "889375a0",
   "metadata": {},
   "outputs": [
    {
     "name": "stdout",
     "output_type": "stream",
     "text": [
      "x_bar = 41.660000000000004\n",
      "t_sample = 2.608879069638928\n"
     ]
    }
   ],
   "source": [
    "x_bar=np.mean(x)\n",
    "print(f'x_bar = {x_bar}')\n",
    "n=len(x)\n",
    "t_sample=(x_bar-mu_0)/(sigma_pop/n**0.5)\n",
    "print(f't_sample = {t_sample}')"
   ]
  },
  {
   "cell_type": "code",
   "execution_count": 42,
   "id": "26a13452",
   "metadata": {},
   "outputs": [
    {
     "name": "stdout",
     "output_type": "stream",
     "text": [
      "p_value = 1.9716772263313351\n"
     ]
    }
   ],
   "source": [
    "p_value=2*t.cdf(t_sample , df=n-1) \n",
    "print(f'p_value = {p_value}') #=2.61 using z-distribution"
   ]
  },
  {
   "cell_type": "code",
   "execution_count": null,
   "id": "2cb560b7",
   "metadata": {},
   "outputs": [],
   "source": []
  }
 ],
 "metadata": {
  "kernelspec": {
   "display_name": "Python 3 (ipykernel)",
   "language": "python",
   "name": "python3"
  },
  "language_info": {
   "codemirror_mode": {
    "name": "ipython",
    "version": 3
   },
   "file_extension": ".py",
   "mimetype": "text/x-python",
   "name": "python",
   "nbconvert_exporter": "python",
   "pygments_lexer": "ipython3",
   "version": "3.9.13"
  }
 },
 "nbformat": 4,
 "nbformat_minor": 5
}
